{
 "nbformat": 4,
 "nbformat_minor": 0,
 "metadata": {
  "colab": {
   "provenance": []
  },
  "kernelspec": {
   "name": "python3",
   "display_name": "Python 3 (ipykernel)",
   "language": "python"
  },
  "language_info": {
   "name": "python"
  }
 },
 "cells": [
  {
   "cell_type": "markdown",
   "source": [
    "**<H1>ЛЕКСИЧНИЙ АНАЛІЗ</H1>**\n",
    "\n",
    "Автор: **Григорій ЖОЛТКЕВИЧ**\\\n",
    "Автор: **Микола ГОРА**"
   ],
   "metadata": {
    "id": "VbaciI-MMaLB"
   }
  },
  {
   "cell_type": "markdown",
   "source": [
    "# **Підготовка блокноту до роботи**"
   ],
   "metadata": {
    "id": "Y-G601IyMPv4"
   }
  },
  {
   "cell_type": "code",
   "source": [
    "from typing import Tuple, Sequence, Any\n",
    "from typing_extensions import Self"
   ],
   "metadata": {
    "id": "5zGBA48v8u7F",
    "ExecuteTime": {
     "end_time": "2024-11-08T18:53:24.005103Z",
     "start_time": "2024-11-08T18:53:23.998589Z"
    }
   },
   "outputs": [],
   "execution_count": 9
  },
  {
   "cell_type": "markdown",
   "source": [
    "# **Клас регулярних виразів**"
   ],
   "metadata": {
    "id": "mzc72HBaMFja"
   }
  },
  {
   "cell_type": "code",
   "metadata": {
    "id": "iV8MKHXSo836",
    "ExecuteTime": {
     "end_time": "2024-11-08T18:53:24.110157Z",
     "start_time": "2024-11-08T18:53:24.089860Z"
    }
   },
   "source": [
    "class ReX(tuple):\n",
    "\n",
    "    EMT = 0  # empty expression\n",
    "    NIL = 1  # nil expression\n",
    "    CHR = 2  # one letter expression\n",
    "    AST = 3  # Kleene closure\n",
    "    CAT = 4  # concatanation\n",
    "    ALT = 5  # alternation\n",
    "\n",
    "    def __new__(cls, kind: int, *args: Sequence[Any]) -> Self:\n",
    "        if type(kind) != int:\n",
    "            raise ValueError(\"ReX() error! Bad type of expression kind\")\n",
    "        if kind == ReX.EMT or kind == ReX.NIL:\n",
    "            if args:\n",
    "                raise ValueError(\"ReX() error! Unexpected argument(s)\")\n",
    "            return super().__new__(cls, (kind, ()))\n",
    "        elif kind == ReX.CHR:\n",
    "            if len(args) != 1:\n",
    "                raise ValueError(\"ReX() error! Invalid number of arguments\")\n",
    "            if type(args[0]) != str and len(args[0]) != 1:\n",
    "                raise ValueError(\"ReX() error! Bad argument(s)\")\n",
    "            return super().__new__(cls, (kind, args))\n",
    "        elif kind == ReX.AST:\n",
    "            if len(args) != 1:\n",
    "                raise ValueError(\"ReX() error! Invalid number of arguments\")\n",
    "            if type(args[0]) != ReX:\n",
    "                raise ValueError(\"ReX() error! Bad argument(s)\")\n",
    "            return super().__new__(cls, (kind, args))\n",
    "        elif kind == ReX.CAT or kind == ReX.ALT:\n",
    "            if len(args) != 2:\n",
    "                raise ValueError(\"ReX() error! Invalid number of arguments\")\n",
    "            if not all(type(arg) == ReX for arg in args):\n",
    "                raise ValueError(\"ReX() error! Bad argument(s)\")\n",
    "            return super().__new__(cls, (kind, args))\n",
    "        else:\n",
    "            raise ValueError(\"ReX() error! Bad kind of expression\")\n",
    "\n",
    "    @property\n",
    "    def kind(self):\n",
    "        return self[0]\n",
    "\n",
    "    def __eq__(self, another: Self) -> bool:\n",
    "        if type(another) != ReX:\n",
    "            raise ValueError(\"invalid comparison\")\n",
    "        return super().__eq__(self, another)\n",
    "\n",
    "    def __ne__(self, another):\n",
    "        return not (self == another)\n",
    "\n",
    "    def __str__(self):\n",
    "        if self.kind == ReX.EMT:\n",
    "            return \"∅\"\n",
    "        if self.kind == ReX.NIL:\n",
    "            return \"ϵ\"\n",
    "        if self.kind == ReX.CHR:\n",
    "            return self[1][0]\n",
    "        if self.kind == ReX.AST:\n",
    "            return f\"{self[1][0]}*\"\n",
    "        if self.kind == ReX.CAT:\n",
    "            return f\"({self[1][0]} {self[1][1]})\"\n",
    "        # self.kind == ReX.ALT\n",
    "        return f\"({self[1][0]} | {self[1][1]})\"\n",
    "\n",
    "    @classmethod\n",
    "    def Empty(cls) -> Self:\n",
    "        return ReX(ReX.EMT)\n",
    "\n",
    "    @classmethod\n",
    "    def Nil(cls) -> Self:\n",
    "        return ReX(ReX.NIL)\n",
    "\n",
    "    @classmethod\n",
    "    def Char(cls, ch: str) -> Self:\n",
    "        return ReX(ReX.CHR, ch)\n",
    "\n",
    "    @classmethod\n",
    "    def Ast(cls, rex: Self) -> Self:\n",
    "        return ReX(ReX.AST, rex)\n",
    "\n",
    "    @classmethod\n",
    "    def Cat(cls, rex1: Self, rex2: Self) -> Self:\n",
    "        return ReX(ReX.CAT, rex1, rex2)\n",
    "\n",
    "    @classmethod\n",
    "    def Alt(cls, rex1: Self, rex2: Self) -> Self:\n",
    "        return ReX(ReX.ALT, rex1, rex2)"
   ],
   "outputs": [],
   "execution_count": 10
  },
  {
   "cell_type": "code",
   "source": [
    "empty = ReX.Empty()\n",
    "print(f\"empty = {empty}\")\n",
    "nil = ReX.Nil()\n",
    "print(f\"nil   = {nil}\")\n",
    "a, b = ReX.Char('a'), ReX.Char('b')\n",
    "print(f\"a  = '{a}', b = '{b}'\")\n",
    "ast = ReX.Ast(a)\n",
    "print(f\"ast   = {ast}\")\n",
    "cat = ReX.Cat(a, b)\n",
    "print(f\"cat   = {cat}\")\n",
    "alt = ReX.Alt(a, b)\n",
    "print(f\"alt   = {alt}\")"
   ],
   "metadata": {
    "colab": {
     "base_uri": "https://localhost:8080/"
    },
    "id": "qnMOsqKzbmIG",
    "outputId": "2c7b0a77-3e13-4926-8010-fb1e1d9bebc0",
    "ExecuteTime": {
     "end_time": "2024-11-08T18:53:24.244720Z",
     "start_time": "2024-11-08T18:53:24.232017Z"
    }
   },
   "outputs": [
    {
     "name": "stdout",
     "output_type": "stream",
     "text": [
      "empty = ∅\n",
      "nil   = ϵ\n",
      "a  = 'a', b = 'b'\n",
      "ast   = a*\n",
      "cat   = (a b)\n",
      "alt   = (a | b)\n"
     ]
    }
   ],
   "execution_count": 11
  },
  {
   "cell_type": "markdown",
   "source": [
    "# **Функція** `simplify()`"
   ],
   "metadata": {
    "id": "BXAilFXtS7IH"
   }
  },
  {
   "cell_type": "markdown",
   "source": [
    "Функція `simplify(expr: ReX) -> ReX`\n",
    "забезпечує рекурсивне спрощення регулярних виразів за правилами\n",
    "\n",
    "- $(\\emptyset\\mid e)\\longrightarrow e$\n",
    "- $(e\\mid\\emptyset)\\longrightarrow e$\n",
    "- $(\\emptyset\\ e)\\longrightarrow\\emptyset$\n",
    "- $(e\\ \\emptyset)\\longrightarrow\\emptyset$\n",
    "- $(\\epsilon\\ e)\\longrightarrow e$\n",
    "- $(e\\ \\epsilon)\\longrightarrow e$\n",
    "- $(\\emptyset)^\\ast\\longrightarrow\\epsilon$\n",
    "- $(\\epsilon)^\\ast\\longrightarrow\\epsilon$"
   ],
   "metadata": {
    "id": "mFJ1OY6hTJwB"
   }
  },
  {
   "cell_type": "code",
   "source": [
    "def simplify(rex: ReX) -> ReX:\n",
    "    if rex.kind == ReX.ALT:\n",
    "        left = simplify(rex[1][0])\n",
    "        right = simplify(rex[1][1])\n",
    "        if left.kind == ReX.EMT:\n",
    "            return right\n",
    "        if right.kind == ReX.EMT:\n",
    "            return left\n",
    "        return ReX.Alt(left, right)\n",
    "    elif rex.kind == ReX.CAT:\n",
    "        left = simplify(rex[1][0])\n",
    "        right = simplify(rex[1][1])\n",
    "        if left.kind == ReX.EMT or right.kind == ReX.EMT:\n",
    "            return ReX.Empty()\n",
    "        if left.kind == ReX.NIL:\n",
    "            return right\n",
    "        if right.kind == ReX.NIL:\n",
    "            return left\n",
    "        return ReX.Cat(left, right)\n",
    "    elif rex.kind == ReX.AST:\n",
    "        inner = simplify(rex[1][0])\n",
    "        if inner.kind == ReX.EMT or inner.kind == ReX.NIL:\n",
    "            return ReX.Nil()\n",
    "        return ReX.Ast(inner)\n",
    "    return rex"
   ],
   "metadata": {
    "id": "YdTSDpifiKTW",
    "ExecuteTime": {
     "end_time": "2024-11-08T18:53:24.475936Z",
     "start_time": "2024-11-08T18:53:24.466536Z"
    }
   },
   "outputs": [],
   "execution_count": 12
  },
  {
   "cell_type": "markdown",
   "source": [
    "# **Функція** `check_nil()`"
   ],
   "metadata": {
    "id": "0lXOKla0d80U"
   }
  },
  {
   "cell_type": "markdown",
   "source": [
    "Функція `does_contain_nil(rex: ReX) -> bool`\n",
    "перевіряє чи належить порожнє слово регулярній мові, що визначається регулярним виразом `ReX`."
   ],
   "metadata": {
    "id": "uaycpwjLe0aA"
   }
  },
  {
   "cell_type": "code",
   "source": [
    "def does_contain_nil(rex: ReX) -> bool:\n",
    "    rex = simplify(rex)\n",
    "    if rex.kind == ReX.NIL:\n",
    "        return True\n",
    "    if rex.kind == ReX.EMT:\n",
    "        return False\n",
    "    if rex.kind == ReX.CHR:\n",
    "        return False\n",
    "    if rex.kind == ReX.AST:\n",
    "        return True\n",
    "    if rex.kind == ReX.CAT:\n",
    "        return does_contain_nil(rex[1][0]) and does_contain_nil(rex[1][1])\n",
    "    if rex.kind == ReX.ALT:\n",
    "        return does_contain_nil(rex[1][0]) or does_contain_nil(rex[1][1])\n",
    "    raise ValueError(\"Unknown kind of ReX\")"
   ],
   "metadata": {
    "id": "Wh638rNwuwJP",
    "ExecuteTime": {
     "end_time": "2024-11-08T18:53:24.619759Z",
     "start_time": "2024-11-08T18:53:24.612225Z"
    }
   },
   "outputs": [],
   "execution_count": 13
  },
  {
   "cell_type": "markdown",
   "source": [
    "# **Функція** `Brzozowski()`"
   ],
   "metadata": {
    "id": "owHPJiyNfx0I"
   }
  },
  {
   "cell_type": "markdown",
   "source": [
    "Функція `Brzozowski(rex: ReX, ch: str) -> ReX`\n",
    "обчислює похідну Бжозовськи за символом `ch` регулярного виразу `rex`."
   ],
   "metadata": {
    "id": "Bd0ahI9Hf8pV"
   }
  },
  {
   "cell_type": "code",
   "source": [
    "def Brzozowski(rex: ReX, ch: str) -> ReX:\n",
    "    if rex.kind == ReX.EMT:\n",
    "        return ReX.Empty()\n",
    "    if rex.kind == ReX.NIL:\n",
    "        return ReX.Empty()\n",
    "    if rex.kind == ReX.CHR:\n",
    "        return ReX.Nil() if rex[1][0] == ch else ReX.Empty()\n",
    "    if rex.kind == ReX.AST:\n",
    "        return ReX.Cat(Brzozowski(rex[1][0], ch), rex)\n",
    "    if rex.kind == ReX.CAT:\n",
    "        left, right = rex[1]\n",
    "        if does_contain_nil(left):\n",
    "            return ReX.Alt(ReX.Cat(Brzozowski(left, ch), right), Brzozowski(right, ch))\n",
    "        else:\n",
    "            return ReX.Cat(Brzozowski(left, ch), right)\n",
    "    if rex.kind == ReX.ALT:\n",
    "        left, right = rex[1]\n",
    "        return ReX.Alt(Brzozowski(left, ch), Brzozowski(right, ch))\n",
    "    raise ValueError(\"Unknown kind of ReX\")"
   ],
   "metadata": {
    "id": "ebiIIfImxZ_D",
    "ExecuteTime": {
     "end_time": "2024-11-08T18:53:24.684034Z",
     "start_time": "2024-11-08T18:53:24.675180Z"
    }
   },
   "outputs": [],
   "execution_count": 14
  },
  {
   "metadata": {
    "ExecuteTime": {
     "end_time": "2024-11-08T18:53:24.740419Z",
     "start_time": "2024-11-08T18:53:24.729339Z"
    }
   },
   "cell_type": "code",
   "source": [
    "def recognize(rex: ReX, string: str) -> bool:\n",
    "    for ch in string:\n",
    "        rex = Brzozowski(rex, ch)\n",
    "    return does_contain_nil(rex)\n",
    "\n",
    "# Example usage:\n",
    "rex = ReX.Cat(ReX.Char('a'), ReX.Ast(ReX.Char('b')))\n",
    "print(recognize(rex, \"abbb\"))  # Should return True\n",
    "print(recognize(rex, \"a\"))     # Should return True\n",
    "print(recognize(rex, \"ac\"))    # Should return False"
   ],
   "outputs": [
    {
     "name": "stdout",
     "output_type": "stream",
     "text": [
      "True\n",
      "True\n",
      "False\n"
     ]
    }
   ],
   "execution_count": 15
  }
 ]
}
